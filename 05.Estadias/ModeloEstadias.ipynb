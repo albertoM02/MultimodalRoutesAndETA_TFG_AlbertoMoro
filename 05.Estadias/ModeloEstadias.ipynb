{
 "cells": [
  {
   "attachments": {},
   "cell_type": "markdown",
   "metadata": {},
   "source": [
    "<h2>Alberto Moro Carrera</h2>"
   ]
  },
  {
   "attachments": {},
   "cell_type": "markdown",
   "metadata": {},
   "source": [
    "XGBOOST"
   ]
  },
  {
   "cell_type": "code",
   "execution_count": 1,
   "metadata": {},
   "outputs": [
    {
     "name": "stdout",
     "output_type": "stream",
     "text": [
      "Requirement already satisfied: xgboost in c:\\users\\alberto.moro\\anaconda3\\lib\\site-packages (1.7.5)\n",
      "Requirement already satisfied: numpy in c:\\users\\alberto.moro\\anaconda3\\lib\\site-packages (from xgboost) (1.21.5)\n",
      "Requirement already satisfied: scipy in c:\\users\\alberto.moro\\anaconda3\\lib\\site-packages (from xgboost) (1.9.1)\n",
      "Note: you may need to restart the kernel to use updated packages.\n",
      "      Unnamed: 0 modo_llegada modo_salida    pesoKG    tiempoMin  tiempoHoras\n",
      "0              0        barco        tren  51500335  2917.088937           48\n",
      "1              1         tren       barco  28016847  1991.518568           33\n",
      "2              2        barco        tren  14928863  1366.114061           22\n",
      "3              3        barco        tren   5044243   407.902928            6\n",
      "4              4         tren       barco  23484019  1544.755985           25\n",
      "...          ...          ...         ...       ...          ...          ...\n",
      "7995        7995         tren       barco   4832192   565.793878            9\n",
      "7996        7996         tren       barco   7223421   724.775849           12\n",
      "7997        7997         tren       barco   1655430   217.711653            3\n",
      "7998        7998         tren       barco   8690941   718.153209           11\n",
      "7999        7999         tren       barco   1786368   205.302143            3\n",
      "\n",
      "[8000 rows x 6 columns]\n",
      "XGBoost R2:  0.8884881878070221\n",
      "XGBoost RMSE:  344.92471901819175\n"
     ]
    }
   ],
   "source": [
    "%pip install xgboost\n",
    "\n",
    "import xgboost as xgb\n",
    "from sklearn.model_selection import train_test_split\n",
    "from sklearn.metrics import mean_squared_error, r2_score\n",
    "import numpy as np\n",
    "import sklearn.metrics as sm\n",
    "import pandas as pd\n",
    "import datetime as dt \n",
    "\n",
    "df = pd.read_csv('EstadiasDataset_v1.csv', sep=\",\")\n",
    "\n",
    "#Eliminamos valores nulos del set si los hubiera\n",
    "df = df.dropna()\n",
    "\n",
    "#Dividimos el dataset en 2, uno para el entrenamiento y otro para predecir y contrastar las predicciones.\n",
    "train_data, test_data = train_test_split(df, test_size=0.2, random_state=42)\n",
    "\n",
    "print(df)\n",
    "\n",
    "X_train = train_data[['modo_llegada', 'modo_salida', 'pesoKG']]\n",
    "\n",
    "#Variables que afectan a la predicción del eta\n",
    "X_train = train_data[['modo_llegada', 'modo_salida', 'pesoKG']]\n",
    "\n",
    "X_train = pd.get_dummies(X_train, columns=['modo_llegada'], prefix='llegada', prefix_sep='_')\n",
    "X_train = pd.get_dummies(X_train, columns=['modo_salida'], prefix='salida', prefix_sep='_')\n",
    "\n",
    "#Variable a predecir\n",
    "y_train = train_data['tiempoMin']\n",
    "\n",
    "#ALgoritmo\n",
    "modelo_estadias = xgb.XGBRegressor(objective='reg:squarederror', random_state=42)\n",
    "\n",
    "#Entrenamos el modelo con los 2 subdataset\n",
    "modelo_estadias.fit(X_train, y_train)\n",
    "\n",
    "#Realizamos predicciones\n",
    "X_test = test_data[['modo_llegada', 'modo_salida', 'pesoKG']]\n",
    "\n",
    "X_test = pd.get_dummies(X_test, columns=['modo_llegada'], prefix='llegada', prefix_sep='_')\n",
    "X_test = pd.get_dummies(X_test, columns=['modo_salida'], prefix='salida', prefix_sep='_')\n",
    "\n",
    "#Variable a predecir\n",
    "y_test = test_data['tiempoMin']\n",
    "\n",
    "#Predecimos\n",
    "y_pred = modelo_estadias.predict(X_test)\n",
    "\n",
    "r2 = r2_score(y_test, y_pred)\n",
    "print(\"XGBoost R2: \", r2)\n",
    "mse = mean_squared_error(y_test, y_pred)\n",
    "rmse = np.sqrt(mse)\n",
    "print(\"XGBoost RMSE: \", rmse)\n"
   ]
  },
  {
   "attachments": {},
   "cell_type": "markdown",
   "metadata": {},
   "source": [
    "Arbol de decision"
   ]
  },
  {
   "cell_type": "code",
   "execution_count": 2,
   "metadata": {},
   "outputs": [
    {
     "name": "stdout",
     "output_type": "stream",
     "text": [
      "Requirement already satisfied: xgboost in c:\\users\\alberto.moro\\anaconda3\\lib\\site-packages (1.7.5)\n",
      "Requirement already satisfied: numpy in c:\\users\\alberto.moro\\anaconda3\\lib\\site-packages (from xgboost) (1.21.5)\n",
      "Requirement already satisfied: scipy in c:\\users\\alberto.moro\\anaconda3\\lib\\site-packages (from xgboost) (1.9.1)\n",
      "Note: you may need to restart the kernel to use updated packages.\n",
      "      Unnamed: 0 modo_llegada modo_salida    pesoKG    tiempoMin  tiempoHoras\n",
      "0              0        barco        tren  51500335  2917.088937           48\n",
      "1              1         tren       barco  28016847  1991.518568           33\n",
      "2              2        barco        tren  14928863  1366.114061           22\n",
      "3              3        barco        tren   5044243   407.902928            6\n",
      "4              4         tren       barco  23484019  1544.755985           25\n",
      "...          ...          ...         ...       ...          ...          ...\n",
      "7995        7995         tren       barco   4832192   565.793878            9\n",
      "7996        7996         tren       barco   7223421   724.775849           12\n",
      "7997        7997         tren       barco   1655430   217.711653            3\n",
      "7998        7998         tren       barco   8690941   718.153209           11\n",
      "7999        7999         tren       barco   1786368   205.302143            3\n",
      "\n",
      "[8000 rows x 6 columns]\n",
      "Árbol de Decisión R2:  0.8564013401398307\n",
      "Arbol de Decisión RMSE:  391.4164518487066\n"
     ]
    }
   ],
   "source": [
    "%pip install xgboost\n",
    "\n",
    "import xgboost as xgb\n",
    "from sklearn.model_selection import train_test_split\n",
    "from sklearn.metrics import mean_squared_error, r2_score\n",
    "import numpy as np\n",
    "import sklearn.metrics as sm\n",
    "import pandas as pd\n",
    "import datetime as dt \n",
    "from sklearn import tree\n",
    "\n",
    "df = pd.read_csv('EstadiasDataset_v1.csv', sep=\",\")\n",
    "\n",
    "#Eliminamos valores nulos del set si los hubiera\n",
    "df = df.dropna()\n",
    "\n",
    "#Dividimos el dataset en 2, uno para el entrenamiento y otro para predecir y contrastar las predicciones.\n",
    "train_data, test_data = train_test_split(df, test_size=0.2, random_state=42)\n",
    "\n",
    "print(df)\n",
    "\n",
    "X_train = train_data[['modo_llegada', 'modo_salida', 'pesoKG']]\n",
    "\n",
    "#Variables que afectan a la predicción del eta\n",
    "X_train = train_data[['modo_llegada', 'modo_salida', 'pesoKG']]\n",
    "\n",
    "X_train = pd.get_dummies(X_train, columns=['modo_llegada'], prefix='llegada', prefix_sep='_')\n",
    "X_train = pd.get_dummies(X_train, columns=['modo_salida'], prefix='salida', prefix_sep='_')\n",
    "\n",
    "#Variable a predecir\n",
    "y_train = train_data['tiempoMin']\n",
    "\n",
    "#ALgoritmo\n",
    "modelo_estadias_tree = tree.DecisionTreeRegressor()\n",
    "\n",
    "#Entrenamos el modelo con los 2 subdataset\n",
    "modelo_estadias_tree.fit(X_train, y_train)\n",
    "\n",
    "#Realizamos predicciones\n",
    "X_test = test_data[['modo_llegada', 'modo_salida', 'pesoKG']]\n",
    "\n",
    "X_test = pd.get_dummies(X_test, columns=['modo_llegada'], prefix='llegada', prefix_sep='_')\n",
    "X_test = pd.get_dummies(X_test, columns=['modo_salida'], prefix='salida', prefix_sep='_')\n",
    "\n",
    "#Variable a predecir\n",
    "y_test = test_data['tiempoMin']\n",
    "\n",
    "#Predecimos\n",
    "y_pred = modelo_estadias_tree.predict(X_test)\n",
    "\n",
    "r2 = r2_score(y_test, y_pred)\n",
    "print(\"Árbol de Decisión R2: \", r2)\n",
    "mse = mean_squared_error(y_test, y_pred)\n",
    "rmse = np.sqrt(mse)\n",
    "print(\"Arbol de Decisión RMSE: \", rmse)\n"
   ]
  },
  {
   "attachments": {},
   "cell_type": "markdown",
   "metadata": {},
   "source": [
    "Calculamos algunos valores a mano"
   ]
  },
  {
   "cell_type": "code",
   "execution_count": 3,
   "metadata": {},
   "outputs": [
    {
     "name": "stdout",
     "output_type": "stream",
     "text": [
      "XGBOOST     pesoKG  llegada_barco  llegada_tren  salida_barco  salida_tren  Predicted eta\n",
      "0        1              0             1             1            0      30.471712\n",
      "1      100              1             0             0            1      30.471712\n",
      "2    10000              0             1             0            1      31.457813\n",
      "3  2329292              0             1             1            0     277.017883\n",
      "4   232923              1             0             1            0      48.219913\n",
      "5   232923              0             1             1            0      52.410698\n",
      "6    23292              0             1             1            0      32.434086\n",
      "7     1230              0             1             1            0      30.471712\n",
      "TREE     pesoKG  llegada_barco  llegada_tren  salida_barco  salida_tren  Predicted eta\n",
      "0        1              0             1             1            0      30.000097\n",
      "1      100              1             0             0            1      30.006080\n",
      "2    10000              0             1             0            1      30.876905\n",
      "3  2329292              0             1             1            0     597.761598\n",
      "4   232923              1             0             1            0      52.615906\n",
      "5   232923              0             1             1            0      52.551961\n",
      "6    23292              0             1             1            0      31.842226\n",
      "7     1230              0             1             1            0      30.146272\n"
     ]
    }
   ],
   "source": [
    "import datetime as dt\n",
    "\n",
    "df = pd.read_csv('trainer1.csv', usecols=['modo_llegada', 'modo_salida', 'pesoKG'], sep=\",\")\n",
    "\n",
    "df = pd.get_dummies(df, columns=['modo_llegada'], prefix='llegada', prefix_sep='_')\n",
    "df = pd.get_dummies(df, columns=['modo_salida'], prefix='salida', prefix_sep='_')\n",
    "\n",
    "df2 = df.copy()\n",
    "# Use the trained model to make predictions on the entire dataset\n",
    "df['Predicted eta'] = modelo_estadias.predict(df)\n",
    "print(\"XGBOOST\" , df.to_string())\n",
    "\n",
    "df2['Predicted eta'] = modelo_estadias_tree.predict(df2)\n",
    "\n",
    "# Print the entire dataframe with predicted eta column\n",
    "print(\"TREE\", df2.to_string())"
   ]
  },
  {
   "attachments": {},
   "cell_type": "markdown",
   "metadata": {},
   "source": [
    "Sistema"
   ]
  },
  {
   "cell_type": "code",
   "execution_count": 4,
   "metadata": {},
   "outputs": [
    {
     "name": "stdout",
     "output_type": "stream",
     "text": [
      "   pesoKG  llegada_barco  salida_tren  llegada_tren  salida_barco\n",
      "0      10              1            1             0             0\n",
      "    pesoKG  llegada_barco  llegada_tren  salida_barco  salida_tren  Predicted eta\n",
      "0        1              0             1             1            0      30.000097\n",
      "1      100              1             0             0            1      30.006080\n",
      "2    10000              0             1             0            1      30.876905\n",
      "3  2329292              0             1             1            0     597.761598\n",
      "4   232923              1             0             1            0      52.615906\n",
      "5   232923              0             1             1            0      52.551961\n",
      "6    23292              0             1             1            0      31.842226\n",
      "7     1230              0             1             1            0      30.146272\n",
      "XGBOOST    pesoKG  llegada_barco  llegada_tren  salida_barco  salida_tren  PredictedMin  PredictedHoras\n",
      "0      10              1             0             0            1     30.471712        0.507862\n",
      "TREE    pesoKG  llegada_barco  llegada_tren  salida_barco  salida_tren  PredictedMin  PredictedHoras\n",
      "0      10              1             0             0            1     30.000682        0.500011\n"
     ]
    }
   ],
   "source": [
    "import pandas as pd\n",
    "\n",
    "modo_llegada = 'barco'\n",
    "modo_salida = 'tren'\n",
    "pesoKG = 10\n",
    "\n",
    "\n",
    "df = pd.DataFrame([[modo_llegada, modo_salida, pesoKG]], columns=['modo_llegada', 'modo_salida', 'pesoKG'])\n",
    "\n",
    "df = pd.get_dummies(df, columns=['modo_llegada'], prefix='llegada', prefix_sep='_')\n",
    "df = pd.get_dummies(df, columns=['modo_salida'], prefix='salida', prefix_sep='_')\n",
    "\n",
    "columnas = ['llegada_barco', 'llegada_tren', 'salida_barco', 'salida_tren']\n",
    "\n",
    "# Create missing weather columns and fill them with zeros\n",
    "for col in columnas:\n",
    "    if col not in df.columns:\n",
    "        df[col] = 0\n",
    "print(df.to_string())\n",
    "\n",
    "print(df2.to_string())\n",
    "\n",
    "df = df.reindex(columns=['pesoKG','llegada_barco', 'llegada_tren', 'salida_barco', 'salida_tren'])\n",
    "\n",
    "df2 = df.copy()\n",
    "# Use the trained model to make predictions on the entire dataset\n",
    "df['PredictedMin'] = modelo_estadias.predict(df)\n",
    "\n",
    "\n",
    "df2['PredictedMin'] = modelo_estadias_tree.predict(df2)\n",
    "\n",
    "df['PredictedHoras'] = df['PredictedMin'] / 60\n",
    "df2['PredictedHoras'] = df2['PredictedMin'] / 60\n",
    "\n",
    "\n",
    "print(\"XGBOOST\" , df.to_string())\n",
    "# Print the entire dataframe with predicted eta column\n",
    "print(\"TREE\", df2.to_string())\n"
   ]
  }
 ],
 "metadata": {
  "kernelspec": {
   "display_name": "base",
   "language": "python",
   "name": "python3"
  },
  "language_info": {
   "codemirror_mode": {
    "name": "ipython",
    "version": 3
   },
   "file_extension": ".py",
   "mimetype": "text/x-python",
   "name": "python",
   "nbconvert_exporter": "python",
   "pygments_lexer": "ipython3",
   "version": "3.9.13"
  },
  "orig_nbformat": 4
 },
 "nbformat": 4,
 "nbformat_minor": 2
}
