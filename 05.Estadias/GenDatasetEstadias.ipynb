{
 "cells": [
  {
   "attachments": {},
   "cell_type": "markdown",
   "metadata": {},
   "source": [
    "<h2>Alberto Moro Carrera</h2>"
   ]
  },
  {
   "attachments": {},
   "cell_type": "markdown",
   "metadata": {},
   "source": [
    "Generacion dataset estadias\n",
    "\n",
    "Primero creamos las columnas vacias"
   ]
  },
  {
   "cell_type": "code",
   "execution_count": 3,
   "metadata": {},
   "outputs": [
    {
     "name": "stdout",
     "output_type": "stream",
     "text": [
      "    modo_llegada modo_salida pesoKG tiempoMin\n",
      "0                                            \n",
      "1                                            \n",
      "2                                            \n",
      "3                                            \n",
      "4                                            \n",
      "..           ...         ...    ...       ...\n",
      "995                                          \n",
      "996                                          \n",
      "997                                          \n",
      "998                                          \n",
      "999                                          \n",
      "\n",
      "[1000 rows x 4 columns]\n"
     ]
    }
   ],
   "source": [
    "import pandas as pd\n",
    "import numpy as np\n",
    "\n",
    "df = pd.DataFrame(index=np.arange(1000))\n",
    "\n",
    "df['modo_llegada'] = ''\n",
    "df['modo_salida'] = ''\n",
    "df['pesoKG'] = ''\n",
    "df['tiempoMin'] = ''\n",
    "\n",
    "print(df)"
   ]
  },
  {
   "attachments": {},
   "cell_type": "markdown",
   "metadata": {},
   "source": [
    "Introducimos pesos aleatorios"
   ]
  },
  {
   "cell_type": "code",
   "execution_count": 4,
   "metadata": {},
   "outputs": [
    {
     "name": "stdout",
     "output_type": "stream",
     "text": [
      "a\n",
      "b\n",
      "c\n",
      "d\n"
     ]
    },
    {
     "name": "stderr",
     "output_type": "stream",
     "text": [
      "100%|██████████| 8000/8000 [00:00<00:00, 16711.23it/s]\n"
     ]
    },
    {
     "name": "stdout",
     "output_type": "stream",
     "text": [
      "     modo_llegada modo_salida    pesoKG    tiempoMin\n",
      "0           barco        tren  51500335  2887.088937\n",
      "1            tren       barco  28016847  1961.518568\n",
      "2           barco        tren  14928863  1336.114061\n",
      "3           barco        tren   5044243   377.902928\n",
      "4            tren       barco  23484019  1514.755985\n",
      "...           ...         ...       ...          ...\n",
      "7995         tren       barco   4832192   535.793878\n",
      "7996         tren       barco   7223421   694.775849\n",
      "7997         tren       barco   1655430   187.711653\n",
      "7998         tren       barco   8690941   688.153209\n",
      "7999         tren       barco   1786368   175.302143\n",
      "\n",
      "[8000 rows x 4 columns]\n",
      "[1247 2478 2197  631 7415 3941 4505 5396 5480  612 7143 1376 7403 5964\n",
      " 4106]\n",
      "[5347 1013 1192 7645 2963 3561 1343 5567 1372 5622 2404 7902 3227 6043\n",
      "   24]\n"
     ]
    }
   ],
   "source": [
    "import random \n",
    "from tqdm import tqdm\n",
    "import warnings\n",
    "\n",
    "warnings.simplefilter(action='ignore', category=FutureWarning)\n",
    "\n",
    "\n",
    "#Obtenemos un peso aleatorio para cada entrada\n",
    "df[\"pesoKG\"] = df.apply(lambda x: random.randint(1,60000000), axis=1) #1 Kg a 60000000 toneladas\n",
    "\n",
    "# Define the number of rows to add\n",
    "n_rows = 1000\n",
    "\n",
    "# Generate random values and append them to the 'A' column\n",
    "inicio = 10\n",
    "while inicio <= 10000000:\n",
    "    for i in range(n_rows):\n",
    "        random_value = random.randint((inicio/10), inicio)\n",
    "        df = df.append({'pesoKG': random_value}, ignore_index=True)\n",
    "    inicio=inicio*10\n",
    "\n",
    "\n",
    "\n",
    "df['tiempoMin'] = df.apply(lambda x: x['pesoKG'] * round(random.uniform(0.00008, 0.00016), 5), axis=1) #Entre  0.005 segundos por kg y 0.001 segundos por kg\n",
    "\n",
    "modo = ['barco', 'tren']\n",
    "\n",
    "\n",
    "#Valores aleatorios de llegada y salida\n",
    "df[\"modo_llegada\"] = df.apply(lambda x: random.choice(modo), axis=1)\n",
    "\n",
    "for index, row in tqdm(df.iterrows(), total=len(df)):\n",
    "    if row['modo_llegada'] == 'barco':\n",
    "        df.at[index, 'modo_salida'] = \"tren\"\n",
    "    if row['modo_llegada'] == 'tren':\n",
    "        df.at[index, 'modo_salida'] = \"barco\"\n",
    "\n",
    "#Igualamos el valor de tiempoMin en el subset de modo_llegada con valor barco a ese subset con la multiplicacion aplicada pra cada fila\n",
    "#La carga y descarga en barcos suele ser algo más rápida\n",
    "\n",
    "df.loc[df['modo_llegada'] == 'barco', 'tiempoMin'] = df.loc[df['modo_llegada'] == 'barco', 'tiempoMin'].apply(lambda x: x * random.uniform(0.4, 0.8))\n",
    "df.loc[df['modo_llegada'] == 'tren', 'tiempoMin'] = df.loc[df['modo_llegada'] == 'tren', 'tiempoMin'].apply(lambda x: x * random.uniform(0.6, 1))\n",
    "\n",
    "#Valores extremos\n",
    "\n",
    "numExtreme = 15 #Amount of registres to apply the random modification.\n",
    "\n",
    "#Casos extremos altos\n",
    "mod_indices_alto = np.random.choice(df.index, numExtreme, replace=False)\n",
    "print(mod_indices_alto)\n",
    "alto = np.random.uniform(1.8, 2.1, len(mod_indices_alto)) #Casos extremos, eta alto\n",
    "df.loc[mod_indices_alto, 'tiempoMin'] *= alto\n",
    "\n",
    "#Casos extremos bajos\n",
    "mod_indices_bajo = np.random.choice(df.index, numExtreme, replace=False)\n",
    "print(mod_indices_bajo)\n",
    "bajo = np.random.uniform(0.2, 0.4, len(mod_indices_bajo)) #Casos extremos, eta bajo\n",
    "df.loc[mod_indices_bajo, 'tiempoMin'] *= bajo\n",
    "\n",
    "#Vemos que los valores bajos son muy bajos con lo que necesitamos considerar un tiempo estandar de preparación antes de descargar contenedores de unos 30 minutos\n",
    "df[\"tiempoMin\"] = df[\"tiempoMin\"] + 30\n",
    "\n",
    "#Conversion a horas\n",
    "df[\"tiempoHoras\"] = df[\"tiempoMin\"] / 60\n",
    "df[\"tiempoHoras\"] = df[\"tiempoHoras\"].astype(int)\n",
    "\n",
    "\n",
    "\n",
    "\n",
    "\n",
    "\n",
    "df.to_csv(\"EstadiasDataset_v1.csv\")"
   ]
  }
 ],
 "metadata": {
  "kernelspec": {
   "display_name": "base",
   "language": "python",
   "name": "python3"
  },
  "language_info": {
   "codemirror_mode": {
    "name": "ipython",
    "version": 3
   },
   "file_extension": ".py",
   "mimetype": "text/x-python",
   "name": "python",
   "nbconvert_exporter": "python",
   "pygments_lexer": "ipython3",
   "version": "3.9.13"
  },
  "orig_nbformat": 4
 },
 "nbformat": 4,
 "nbformat_minor": 2
}
