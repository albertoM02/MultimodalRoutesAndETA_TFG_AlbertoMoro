{
 "cells": [
  {
   "attachments": {},
   "cell_type": "markdown",
   "metadata": {},
   "source": [
    "<h2>Alberto Moro Carrera</h2>"
   ]
  },
  {
   "attachments": {},
   "cell_type": "markdown",
   "metadata": {},
   "source": [
    "Quitamos valores aleatorios"
   ]
  },
  {
   "cell_type": "code",
   "execution_count": 37,
   "metadata": {},
   "outputs": [
    {
     "name": "stdout",
     "output_type": "stream",
     "text": [
      ";trip_count;prev_port;next_port;lat;lon;frequency    2575\n",
      "dtype: int64\n"
     ]
    }
   ],
   "source": [
    "import pandas as pd\n",
    "import numpy as np\n",
    "np.random.seed(10)\n",
    "\n",
    "\n",
    "data = pd.read_csv('RutasMaritimasOriginal.csv') #Lista con más de un millon de coordenadas de rutas maritimas \n",
    "\n",
    "remove_n = 1046000 #Cantidad de puntos a remover (de 1048576 que acepta Pandas )\n",
    "drop_indices = np.random.choice(data.index, remove_n, replace=False) #Escoge esa cantidad de indices aleatorios entre todos los que hay en la lista\n",
    "df = data.drop(drop_indices) #Elimina los elementos en esos indices\n",
    "\n",
    "print(df.count())\n",
    "df.to_csv('MaritimasLimpias.csv', sep=\";\") #Lista con más de un millon de coordenadas de rutas maritimas \n"
   ]
  },
  {
   "attachments": {},
   "cell_type": "markdown",
   "metadata": {},
   "source": [
    "De los que queden quitamos los que sean demasiado cercanos"
   ]
  },
  {
   "cell_type": "code",
   "execution_count": 41,
   "metadata": {},
   "outputs": [
    {
     "name": "stdout",
     "output_type": "stream",
     "text": [
      "      punto        lat        long\n",
      "0         1  44.363002  -86.634613\n",
      "1         2  42.316792  -83.064920\n",
      "2         3  45.891653  -85.478050\n",
      "3         4  42.987840  -82.415786\n",
      "4         5  43.348835  -82.241063\n",
      "...     ...        ...         ...\n",
      "2570   2571  -0.199445  117.864012\n",
      "2571   2572   0.058042  118.381449\n",
      "2572   2573  -3.401437  117.889875\n",
      "2573   2574   4.814735  119.623702\n",
      "2574   2575  25.414350  120.003517\n",
      "\n",
      "[2575 rows x 3 columns]\n"
     ]
    },
    {
     "name": "stderr",
     "output_type": "stream",
     "text": [
      "100%|██████████| 2575/2575 [01:08<00:00, 37.84it/s] "
     ]
    },
    {
     "name": "stdout",
     "output_type": "stream",
     "text": [
      "id      710\n",
      "lat     710\n",
      "long    710\n",
      "dtype: int64\n"
     ]
    },
    {
     "name": "stderr",
     "output_type": "stream",
     "text": [
      "\n"
     ]
    }
   ],
   "source": [
    "import pandas as pd\n",
    "import numpy as np\n",
    "from math import radians, sin, cos, sqrt, atan2\n",
    "from tqdm import tqdm\n",
    "\n",
    "\n",
    "\n",
    "df = pd.read_csv('MaritimasLimpias.csv', usecols=['punto', 'lat', 'long'], sep=';') #Lista con más de un millon de coordenadas de rutas maritimas \n",
    "\n",
    "print(df)\n",
    "\n",
    "# Define the radius in kilometers\n",
    "radius = 200\n",
    "\n",
    "# Convert degrees to radians for latitudes and longitudes\n",
    "df['lat_rad'] = df['lat'].apply(radians)\n",
    "df['lon_rad'] = df['long'].apply(radians)\n",
    "\n",
    "# Function to calculate the distance between two coordinates using the Haversine formula\n",
    "def haversine(lat1, lon1, lat2, lon2):\n",
    "    dlat = lat2 - lat1\n",
    "    dlon = lon2 - lon1\n",
    "    a = sin(dlat / 2) ** 2 + cos(lat1) * cos(lat2) * sin(dlon / 2) ** 2\n",
    "    c = 2 * atan2(sqrt(a), sqrt(1 - a))\n",
    "    return 6371 * c  # 6371 is the radius of the Earth in km\n",
    "\n",
    "# Iterate over each row and keep only the coordinates that are more than radius km apart\n",
    "# Iterate over each row and keep only the coordinates that are more than radius km apart\n",
    "filtered_coordinates = []\n",
    "for i, row1 in tqdm(df.iterrows(), total=df.shape[0]):\n",
    "    keep = True\n",
    "    sub_df = df.iloc[i+1:]  # create sub-dataframe that contains remaining rows\n",
    "    for _, row2 in sub_df.iterrows():\n",
    "        dist = haversine(row1['lat_rad'], row1['lon_rad'], row2['lat_rad'], row2['lon_rad'])\n",
    "        if dist < radius:\n",
    "            keep = False\n",
    "            break\n",
    "    if keep:\n",
    "        filtered_coordinates.append([row1['punto'], row1['lat'], row1['long']])\n",
    "\n",
    "# Convert the filtered coordinates back to a pandas dataframe and save to CSV\n",
    "df_filtered = pd.DataFrame(filtered_coordinates, columns=['id', 'lat', 'long'])\n",
    "print(df_filtered.count())\n",
    "df_filtered.to_csv('MaritimasLimpiasSinCercanas.csv', index=False)\n",
    "\n"
   ]
  }
 ],
 "metadata": {
  "kernelspec": {
   "display_name": "base",
   "language": "python",
   "name": "python3"
  },
  "language_info": {
   "codemirror_mode": {
    "name": "ipython",
    "version": 3
   },
   "file_extension": ".py",
   "mimetype": "text/x-python",
   "name": "python",
   "nbconvert_exporter": "python",
   "pygments_lexer": "ipython3",
   "version": "3.9.13"
  },
  "orig_nbformat": 4
 },
 "nbformat": 4,
 "nbformat_minor": 2
}
